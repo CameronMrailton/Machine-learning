{
 "cells": [
  {
   "cell_type": "code",
   "execution_count": null,
   "metadata": {},
   "outputs": [],
   "source": [
    "import matplotlib.pyplot as plt \n",
    "import numpy as np\n",
    "import pandas as pd\n",
    "import scipy.stats as ss \n",
    "import scipy.optimize as so\n",
    "import skimage.io\n",
    "from PIL import Image\n",
    "\n",
    "from sklearn import linear_model\n",
    "%matplotlib inline\n",
    "from pathlib import Path\n",
    "\n",
    "def getImage(arr):\n",
    "    image = np.ones((64,64))\n",
    "    x = 0\n",
    "    for i in range(64):\n",
    "        for j in range(64):\n",
    "            image[j][i] = arr[x]\n",
    "            x = x+1\n",
    "    image = np.array(image, dtype='uint8')        \n",
    "    return image\n",
    "\n",
    "#initialize paths to data files\n",
    "faceFile = Path.cwd() / 'faces.dat'\n",
    "data = np.loadtxt(faceFile)\n",
    "\n",
    "#open and initialize data for training\n",
    "faces = open(faceFile,\"r\")\n",
    "faces = faces.read()\n",
    "faces = faces.split(\"\\n\")\n",
    "faces.pop()\n",
    "for line in range (len(faces)):\n",
    "    faces[line] =  faces[line].lstrip()\n",
    "    faces[line] = faces[line].split(\"   \")\n",
    "    for x in range(0,len(faces[line])):\n",
    "        faces[line][x] = float(faces[line][x])        \n",
    "faceMatrix = np.array(faces)\n",
    "#3a) display 100th image\n",
    "Face100 = getImage(faceMatrix[99])\n",
    "skimage.io.imshow(Face100)\n",
    "skimage.io.show()\n",
    "\n",
    "#3b) get mean of images and minus it out then display 100th image\n",
    "tempMeanImage = np.zeros((4096))\n",
    "tempMeanMatrix = np.zeros((400,4096))\n",
    "for i in range(400):\n",
    "    for j in range(4096):\n",
    "        tempMeanMatrix[i][j] = np.mean(faceMatrix.T[i][j])\n",
    "print(tempMeanImage)\n",
    "tempMeanMatrix = np.zeros((400,4096))\n",
    "print(faceMatrix)\n",
    "for i in range(400):\n",
    "       for j in range(4096):\n",
    "            tempMeanMatrix[i][j] = faceMatrix[i][j] - tempMeanImage[j]\n",
    "\n",
    "print(tempMeanMatrix)\n",
    "meanFace = getImage(tempMeanMatrix[99])\n",
    "skimage.io.imshow(meanFace)\n",
    "skimage.io.show()\n",
    "\n",
    "Face100MinusmeanFace = getImage((faceMatrix[99] - tempMeanMatrix[99]))\n",
    "skimage.io.imshow(Face100MinusmeanFace)\n",
    "skimage.io.show()"
   ]
  },
  {
   "cell_type": "code",
   "execution_count": null,
   "metadata": {},
   "outputs": [],
   "source": []
  },
  {
   "cell_type": "code",
   "execution_count": null,
   "metadata": {},
   "outputs": [],
   "source": []
  },
  {
   "cell_type": "code",
   "execution_count": null,
   "metadata": {},
   "outputs": [],
   "source": []
  }
 ],
 "metadata": {
  "kernelspec": {
   "display_name": "Python 3",
   "language": "python",
   "name": "python3"
  },
  "language_info": {
   "codemirror_mode": {
    "name": "ipython",
    "version": 3
   },
   "file_extension": ".py",
   "mimetype": "text/x-python",
   "name": "python",
   "nbconvert_exporter": "python",
   "pygments_lexer": "ipython3",
   "version": "3.8.3"
  }
 },
 "nbformat": 4,
 "nbformat_minor": 4
}
